{
 "cells": [
  {
   "cell_type": "code",
   "execution_count": null,
   "id": "native-flesh",
   "metadata": {},
   "outputs": [],
   "source": [
    "import intake\n",
    "import dask\n",
    "import numpy as np\n",
    "from dateutil import parser\n",
    "import xarray as xr\n",
    "import datetime\n",
    "import fsspec"
   ]
  },
  {
   "cell_type": "code",
   "execution_count": null,
   "id": "ambient-transport",
   "metadata": {},
   "outputs": [],
   "source": [
    "from dask_gateway import Gateway"
   ]
  },
  {
   "cell_type": "code",
   "execution_count": null,
   "id": "aggregate-savage",
   "metadata": {},
   "outputs": [],
   "source": [
    "try:\n",
    "    import cmocean\n",
    "    print(f\"CMOCEAN IS INSTALLED... VERSION {cmocean.__version__}\")\n",
    "except Exception as e:\n",
    "    print(\"CMOCEAN IS NOT INSTALLED... INSTALLING\")\n",
    "    !mamba install --yes --quiet cmocean"
   ]
  },
  {
   "cell_type": "markdown",
   "id": "automated-edinburgh",
   "metadata": {},
   "source": [
    "---\n",
    "### Setup dask gateway"
   ]
  },
  {
   "cell_type": "code",
   "execution_count": null,
   "id": "guilty-chess",
   "metadata": {},
   "outputs": [],
   "source": [
    "DASK_GATEWAY = Gateway()"
   ]
  },
  {
   "cell_type": "code",
   "execution_count": null,
   "id": "necessary-provincial",
   "metadata": {
    "jupyter": {
     "source_hidden": true
    }
   },
   "outputs": [],
   "source": [
    "def shutdown_cluster(name, client):\n",
    "    client.close()\n",
    "    DASK_GATEWAY.stop_cluster(name)"
   ]
  },
  {
   "cell_type": "code",
   "execution_count": null,
   "id": "reliable-dublin",
   "metadata": {
    "jupyter": {
     "source_hidden": true
    }
   },
   "outputs": [],
   "source": [
    "def clear_gateway(gateway):\n",
    "    # Ensure that there are no existing cluster\n",
    "    if len(gateway.list_clusters()) > 0:\n",
    "        for c in gateway.list_clusters():\n",
    "            gateway.stop_cluster(c.name)"
   ]
  },
  {
   "cell_type": "code",
   "execution_count": null,
   "id": "elder-excerpt",
   "metadata": {
    "jupyter": {
     "source_hidden": true
    }
   },
   "outputs": [],
   "source": [
    "def create_and_connect_cluster(worker_memory=16, worker_cores=2, n_workers=2, image=''):\n",
    "    clear_gateway(DASK_GATEWAY)\n",
    "    if image:\n",
    "        options = DASK_GATEWAY.cluster_options(use_local_defaults=False)\n",
    "        options.image = image\n",
    "    else:\n",
    "        options = DASK_GATEWAY.cluster_options()\n",
    "    options.worker_memory = worker_memory\n",
    "    options.worker_cores = worker_cores\n",
    "    \n",
    "    cluster = DASK_GATEWAY.new_cluster(\n",
    "        cluster_options=options,\n",
    "        shutdown_on_close=True,\n",
    "    )\n",
    "    \n",
    "    cluster_report = DASK_GATEWAY.get_cluster(cluster.name)\n",
    "    cluster_info = {\n",
    "        'name': cluster_report.name,\n",
    "        'options': cluster_report.options,\n",
    "        'dashboard_link': cluster_report.dashboard_link,\n",
    "    }\n",
    "    print(cluster_info)\n",
    "    cluster.scale(n_workers)\n",
    "    return cluster, cluster.get_client()"
   ]
  },
  {
   "cell_type": "code",
   "execution_count": null,
   "id": "bronze-chapel",
   "metadata": {},
   "outputs": [],
   "source": [
    "cluster, client = create_and_connect_cluster(n_workers=2)"
   ]
  },
  {
   "cell_type": "code",
   "execution_count": null,
   "id": "announced-taxation",
   "metadata": {},
   "outputs": [],
   "source": [
    "cluster"
   ]
  },
  {
   "cell_type": "code",
   "execution_count": null,
   "id": "forward-domain",
   "metadata": {},
   "outputs": [],
   "source": [
    "client"
   ]
  },
  {
   "cell_type": "markdown",
   "id": "separate-sacrifice",
   "metadata": {},
   "source": [
    "---"
   ]
  },
  {
   "cell_type": "markdown",
   "id": "unique-limit",
   "metadata": {},
   "source": [
    "### Open data catalog (Sv)"
   ]
  },
  {
   "cell_type": "code",
   "execution_count": null,
   "id": "corresponding-rebate",
   "metadata": {},
   "outputs": [],
   "source": [
    "import param\n",
    "import pandas as pd\n",
    "import datetime as dt\n",
    "import panel as pn\n",
    "import hvplot.xarray\n",
    "from holoviews import streams\n",
    "\n",
    "pn.extension()"
   ]
  },
  {
   "cell_type": "code",
   "execution_count": null,
   "id": "underlying-surge",
   "metadata": {},
   "outputs": [],
   "source": [
    "delayed_catalog = dask.delayed(intake.open_catalog)('s3://ooi-raw-data/catalog.yaml').persist()"
   ]
  },
  {
   "cell_type": "code",
   "execution_count": null,
   "id": "arbitrary-groove",
   "metadata": {},
   "outputs": [],
   "source": [
    "@dask.delayed\n",
    "def get_data_cat(cat, name):\n",
    "    return cat[name]\n",
    "\n",
    "@dask.delayed\n",
    "def get_date_list(data_cat):\n",
    "    return [v.describe()['args']['urlpath'] for _,v in data_cat.items()]"
   ]
  },
  {
   "cell_type": "code",
   "execution_count": null,
   "id": "demonstrated-polish",
   "metadata": {},
   "outputs": [],
   "source": [
    "all_cat = [c for c in list(delayed_catalog.compute()) if ('_Sv' in c)]"
   ]
  },
  {
   "cell_type": "code",
   "execution_count": null,
   "id": "sharing-lighting",
   "metadata": {},
   "outputs": [],
   "source": [
    "cat_map = {}\n",
    "for c in all_cat:\n",
    "    cat_map[c] = get_date_list(get_data_cat(delayed_catalog, c)).persist()"
   ]
  },
  {
   "cell_type": "code",
   "execution_count": null,
   "id": "restricted-shame",
   "metadata": {},
   "outputs": [],
   "source": [
    "@dask.delayed\n",
    "def fetch_dataset(source, chunks={'ping_time': 86400}):\n",
    "    ds = xr.open_dataset(fsspec.get_mapper(source, anon=True), engine='zarr').sortby('ping_time').chunk(chunks)\n",
    "    return ds"
   ]
  },
  {
   "cell_type": "code",
   "execution_count": null,
   "id": "interpreted-separation",
   "metadata": {},
   "outputs": [],
   "source": [
    "class EchopypeSingleViewer(param.Parameterized):\n",
    "    _default_cat = 'CE04OSPS_Sv'\n",
    "    _default_chunk = {'ping_time': 86400}\n",
    "    _default_freq = 38000\n",
    "    _default_color = 'tempo'\n",
    "    \n",
    "    _data_sources = cat_map[_default_cat].compute()\n",
    "    \n",
    "    \n",
    "    data_catalog = param.ObjectSelector(default=_default_cat, objects=list(cat_map.keys()))\n",
    "    num = param.Integer(bounds=(0, len(_data_sources) - 1))\n",
    "    freqs = param.ObjectSelector(default=_default_freq, objects=[38000, 120000, 200000])\n",
    "    colorbar = param.ObjectSelector(default=_default_color, objects=list(cmocean.cm.cmap_d.keys()))\n",
    "    \n",
    "    data = _data_sources[0]\n",
    "    dataset = fetch_dataset(data).compute()\n",
    "    echoview = dataset[['Sv']].sel(frequency=_default_freq).hvplot.image(\n",
    "        x='ping_time', y='range_bin', \n",
    "        color='Sv', rasterize=True, \n",
    "        cmap=cmocean.cm.cmap_d[_default_color]\n",
    "    )\n",
    "                                        \n",
    "    @param.depends('data_catalog', watch=True)\n",
    "    def _update_num_list(self):\n",
    "        self._data_sources = cat_map[self.data_catalog].compute()\n",
    "        self.param['num'].bounds = (0, len(self._data_sources) - 1)\n",
    "        self.num = 0\n",
    "        self.data = self._data_sources[self.num]\n",
    "        self.dataset = fetch_dataset(self.data).compute()\n",
    "        \n",
    "    @param.depends('dataset', watch=True)\n",
    "    def _update_frequencies(self):\n",
    "        if isinstance(self.dataset, xr.Dataset):\n",
    "            frequencies = self.dataset['frequency'].values.tolist()\n",
    "            self.param['freqs'].objects = frequencies\n",
    "            self.param['freqs'].default = frequencies[0]\n",
    "    \n",
    "    @param.depends('dataset', watch=True)\n",
    "    def _create_plot(self):\n",
    "        if isinstance(self.dataset, xr.Dataset):\n",
    "            filtered_ds = self.dataset[['Sv']].sel(frequency=self.freqs)\n",
    "            self.echoview = filtered_ds.hvplot.image(\n",
    "                x='ping_time', y='range_bin', \n",
    "                color='Sv', rasterize=True, \n",
    "                cmap=cmocean.cm.cmap_d[self.colorbar]\n",
    "            )\n",
    "    \n",
    "    @param.depends('num')\n",
    "    def file_source(self):\n",
    "        self.data = self._data_sources[self.num]\n",
    "        self.dataset = fetch_dataset(self.data).compute()\n",
    "        return self.data\n",
    "    \n",
    "    @param.depends('echoview')\n",
    "    def view(self):\n",
    "        return self.echoview"
   ]
  },
  {
   "cell_type": "code",
   "execution_count": null,
   "id": "canadian-orleans",
   "metadata": {},
   "outputs": [],
   "source": [
    "ev = EchopypeSingleViewer()\n",
    "plot = pn.Row(pn.Column(ev.param, ev.file_source), ev.view)"
   ]
  },
  {
   "cell_type": "code",
   "execution_count": null,
   "id": "bronze-terrain",
   "metadata": {},
   "outputs": [],
   "source": [
    "plot.servable()"
   ]
  },
  {
   "cell_type": "code",
   "execution_count": null,
   "id": "canadian-rally",
   "metadata": {},
   "outputs": [],
   "source": []
  }
 ],
 "metadata": {
  "kernelspec": {
   "display_name": "Python [conda env:notebook] *",
   "language": "python",
   "name": "conda-env-notebook-py"
  },
  "language_info": {
   "codemirror_mode": {
    "name": "ipython",
    "version": 3
   },
   "file_extension": ".py",
   "mimetype": "text/x-python",
   "name": "python",
   "nbconvert_exporter": "python",
   "pygments_lexer": "ipython3",
   "version": "3.8.6"
  }
 },
 "nbformat": 4,
 "nbformat_minor": 5
}
