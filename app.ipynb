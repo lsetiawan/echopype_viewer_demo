{
 "cells": [
  {
   "cell_type": "code",
   "execution_count": null,
   "id": "bearing-pilot",
   "metadata": {},
   "outputs": [],
   "source": [
    "import intake\n",
    "import dask\n",
    "import numpy as np\n",
    "from dateutil import parser\n",
    "import xarray as xr\n",
    "import datetime\n",
    "import fsspec"
   ]
  },
  {
   "cell_type": "code",
   "execution_count": null,
   "id": "entertaining-pride",
   "metadata": {},
   "outputs": [],
   "source": [
    "try:\n",
    "    import cmocean\n",
    "    print(f\"CMOCEAN IS INSTALLED... VERSION {cmocean.__version__}\")\n",
    "except Exception as e:\n",
    "    print(\"CMOCEAN IS NOT INSTALLED... INSTALLING\")\n",
    "    !mamba install --yes --quiet cmocean"
   ]
  },
  {
   "cell_type": "code",
   "execution_count": null,
   "id": "friendly-moment",
   "metadata": {},
   "outputs": [],
   "source": [
    "from dask.distributed import Client\n",
    "from dask_gateway import Gateway\n",
    "\n",
    "gateway = Gateway()\n",
    "cluster = gateway.new_cluster()\n",
    "cluster.scale(4)\n",
    "# explicitly connect to the cluster we just created\n",
    "client = Client(cluster)\n",
    "client"
   ]
  },
  {
   "cell_type": "markdown",
   "id": "approximate-manitoba",
   "metadata": {},
   "source": [
    "---"
   ]
  },
  {
   "cell_type": "markdown",
   "id": "assigned-brown",
   "metadata": {},
   "source": [
    "### Open data catalog (Sv)"
   ]
  },
  {
   "cell_type": "code",
   "execution_count": null,
   "id": "dramatic-stranger",
   "metadata": {},
   "outputs": [],
   "source": [
    "import param\n",
    "import pandas as pd\n",
    "import datetime as dt\n",
    "import panel as pn\n",
    "import hvplot.xarray\n",
    "from holoviews import streams\n",
    "\n",
    "pn.extension()"
   ]
  },
  {
   "cell_type": "code",
   "execution_count": null,
   "id": "sound-complex",
   "metadata": {},
   "outputs": [],
   "source": [
    "delayed_catalog = dask.delayed(intake.open_catalog)('s3://ooi-raw-data/catalog.yaml').persist()"
   ]
  },
  {
   "cell_type": "code",
   "execution_count": null,
   "id": "purple-diary",
   "metadata": {},
   "outputs": [],
   "source": [
    "@dask.delayed\n",
    "def get_data_cat(cat, name):\n",
    "    return cat[name]\n",
    "\n",
    "@dask.delayed\n",
    "def get_date_list(data_cat):\n",
    "    return [v.describe()['args']['urlpath'] for _,v in data_cat.items()]"
   ]
  },
  {
   "cell_type": "code",
   "execution_count": null,
   "id": "hungry-shirt",
   "metadata": {},
   "outputs": [],
   "source": [
    "all_cat = [c for c in list(delayed_catalog.compute()) if ('_Sv' in c)]"
   ]
  },
  {
   "cell_type": "code",
   "execution_count": null,
   "id": "rocky-reliance",
   "metadata": {},
   "outputs": [],
   "source": [
    "cat_map = {}\n",
    "for c in all_cat:\n",
    "    cat_map[c] = get_date_list(get_data_cat(delayed_catalog, c)).persist()"
   ]
  },
  {
   "cell_type": "code",
   "execution_count": null,
   "id": "contemporary-blocking",
   "metadata": {},
   "outputs": [],
   "source": [
    "@dask.delayed\n",
    "def fetch_dataset(source, chunks={'ping_time': 86400}):\n",
    "    ds = xr.open_dataset(fsspec.get_mapper(source, anon=True), engine='zarr').sortby('ping_time').chunk(chunks)\n",
    "    return ds"
   ]
  },
  {
   "cell_type": "code",
   "execution_count": null,
   "id": "corresponding-september",
   "metadata": {},
   "outputs": [],
   "source": [
    "class EchopypeSingleViewer(param.Parameterized):\n",
    "    _default_cat = 'CE04OSPS_Sv'\n",
    "    _default_chunk = {'ping_time': 86400}\n",
    "    _default_freq = 38000\n",
    "    _default_color = 'tempo'\n",
    "    \n",
    "    _data_sources = cat_map[_default_cat].compute()\n",
    "    \n",
    "    \n",
    "    data_catalog = param.ObjectSelector(default=_default_cat, objects=list(cat_map.keys()))\n",
    "    num = param.Integer(bounds=(0, len(_data_sources) - 1))\n",
    "    freqs = param.ObjectSelector(default=_default_freq, objects=[38000, 120000, 200000])\n",
    "    colorbar = param.ObjectSelector(default=_default_color, objects=list(cmocean.cm.cmap_d.keys()))\n",
    "    \n",
    "    data = _data_sources[0]\n",
    "    dataset = fetch_dataset(data).compute()\n",
    "    echoview = dataset[['Sv']].sel(frequency=_default_freq).hvplot.image(\n",
    "        x='ping_time', y='range_bin', \n",
    "        color='Sv', rasterize=True, \n",
    "        cmap=cmocean.cm.cmap_d[_default_color]\n",
    "    )\n",
    "                                        \n",
    "    @param.depends('data_catalog', watch=True)\n",
    "    def _update_num_list(self):\n",
    "        self._data_sources = cat_map[self.data_catalog].compute()\n",
    "        self.param['num'].bounds = (0, len(self._data_sources) - 1)\n",
    "        self.num = 0\n",
    "        self.data = self._data_sources[self.num]\n",
    "        self.dataset = fetch_dataset(self.data).compute()\n",
    "        \n",
    "    @param.depends('dataset', watch=True)\n",
    "    def _update_frequencies(self):\n",
    "        if isinstance(self.dataset, xr.Dataset):\n",
    "            frequencies = self.dataset['frequency'].values.tolist()\n",
    "            self.param['freqs'].objects = frequencies\n",
    "            self.param['freqs'].default = frequencies[0]\n",
    "    \n",
    "    @param.depends('dataset', watch=True)\n",
    "    def _create_plot(self):\n",
    "        if isinstance(self.dataset, xr.Dataset):\n",
    "            filtered_ds = self.dataset[['Sv']].sel(frequency=self.freqs)\n",
    "            self.echoview = filtered_ds.hvplot.image(\n",
    "                x='ping_time', y='range_bin', \n",
    "                color='Sv', rasterize=True, \n",
    "                cmap=cmocean.cm.cmap_d[self.colorbar]\n",
    "            )\n",
    "    \n",
    "    @param.depends('num')\n",
    "    def file_source(self):\n",
    "        self.data = self._data_sources[self.num]\n",
    "        self.dataset = fetch_dataset(self.data).compute()\n",
    "        return self.data\n",
    "    \n",
    "    @param.depends('echoview')\n",
    "    def view(self):\n",
    "        return self.echoview"
   ]
  },
  {
   "cell_type": "code",
   "execution_count": null,
   "id": "indoor-india",
   "metadata": {},
   "outputs": [],
   "source": [
    "ev = EchopypeSingleViewer()\n",
    "plot = pn.Row(pn.Column(ev.param, ev.file_source), ev.view)"
   ]
  },
  {
   "cell_type": "code",
   "execution_count": null,
   "id": "latin-dylan",
   "metadata": {},
   "outputs": [],
   "source": [
    "plot.servable()"
   ]
  },
  {
   "cell_type": "code",
   "execution_count": null,
   "id": "direct-prague",
   "metadata": {},
   "outputs": [],
   "source": []
  }
 ],
 "metadata": {
  "kernelspec": {
   "display_name": "Python 3",
   "language": "python",
   "name": "python3"
  },
  "language_info": {
   "codemirror_mode": {
    "name": "ipython",
    "version": 3
   },
   "file_extension": ".py",
   "mimetype": "text/x-python",
   "name": "python",
   "nbconvert_exporter": "python",
   "pygments_lexer": "ipython3",
   "version": "3.7.6"
  }
 },
 "nbformat": 4,
 "nbformat_minor": 5
}
